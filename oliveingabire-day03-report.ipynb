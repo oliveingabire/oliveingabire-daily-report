{
 "cells": [
  {
   "cell_type": "markdown",
   "id": "075dbad3-97b1-483c-aba3-95cd7449fa57",
   "metadata": {},
   "source": [
    "## Strings and files"
   ]
  },
  {
   "cell_type": "code",
   "execution_count": 1,
   "id": "f3584297-2384-4e83-bd3f-c40281c30d20",
   "metadata": {},
   "outputs": [],
   "source": [
    "string_1  = \"Will you be at the meeting to night?\"\n",
    "string_2 = '\"yes,\" he replies.'"
   ]
  },
  {
   "cell_type": "code",
   "execution_count": 2,
   "id": "59ff2142-0dc9-46b3-81a2-f11052d4107e",
   "metadata": {},
   "outputs": [
    {
     "name": "stdout",
     "output_type": "stream",
     "text": [
      "Will you be at the meeting to night?\n"
     ]
    }
   ],
   "source": [
    "print(string_1)"
   ]
  },
  {
   "cell_type": "code",
   "execution_count": 3,
   "id": "bd202ed8-64d0-44d8-835f-033da6336cdd",
   "metadata": {},
   "outputs": [
    {
     "name": "stdout",
     "output_type": "stream",
     "text": [
      "\"yes,\" he replies.\n"
     ]
    }
   ],
   "source": [
    "print(string_2)\n"
   ]
  },
  {
   "cell_type": "markdown",
   "id": "3628bcfe-d61f-4dbb-acba-64501548ad30",
   "metadata": {},
   "source": [
    "### Indexing"
   ]
  },
  {
   "cell_type": "code",
   "execution_count": 4,
   "id": "73fd1a84-c173-4b44-a763-df75bff9642f",
   "metadata": {},
   "outputs": [
    {
     "data": {
      "text/plain": [
       "'W'"
      ]
     },
     "execution_count": 4,
     "metadata": {},
     "output_type": "execute_result"
    }
   ],
   "source": [
    "string_1[0]"
   ]
  },
  {
   "cell_type": "code",
   "execution_count": 5,
   "id": "f151287a-033a-4302-8d3d-769a29b469a5",
   "metadata": {},
   "outputs": [
    {
     "data": {
      "text/plain": [
       "'l'"
      ]
     },
     "execution_count": 5,
     "metadata": {},
     "output_type": "execute_result"
    }
   ],
   "source": [
    "string_1[2]"
   ]
  },
  {
   "cell_type": "code",
   "execution_count": 7,
   "id": "43ca61ab-1516-407b-b1cc-7717ee564770",
   "metadata": {},
   "outputs": [
    {
     "name": "stdout",
     "output_type": "stream",
     "text": [
      "Will you be at the meeting to night?\n",
      "The second character of my string is  i\n"
     ]
    }
   ],
   "source": [
    "print(string_1)\n",
    "print(\"The second character of my string is \", string_1[1])"
   ]
  },
  {
   "cell_type": "markdown",
   "id": "591bf88b-b96e-4350-813c-5ad95758cd21",
   "metadata": {},
   "source": [
    "#### Slicing\n",
    "```python\n",
    "string[start: stop: step]\n",
    "```"
   ]
  },
  {
   "cell_type": "code",
   "execution_count": 10,
   "id": "3c807439-d72a-4142-a478-b6baa85a976d",
   "metadata": {},
   "outputs": [
    {
     "name": "stdout",
     "output_type": "stream",
     "text": [
      "Will you be at the meeting to night?\n"
     ]
    },
    {
     "data": {
      "text/plain": [
       "'l o'"
      ]
     },
     "execution_count": 10,
     "metadata": {},
     "output_type": "execute_result"
    }
   ],
   "source": [
    "print(string_1)\n",
    "string_1[2:8:2]"
   ]
  },
  {
   "cell_type": "code",
   "execution_count": 16,
   "id": "ce93c7a3-43c5-4e73-bcba-6fcf56cf74b3",
   "metadata": {},
   "outputs": [
    {
     "data": {
      "text/plain": [
       "'dhs'"
      ]
     },
     "execution_count": 16,
     "metadata": {},
     "output_type": "execute_result"
    }
   ],
   "source": [
    "string_3 = 'ggddhgsdggjsnhjdhdsh'\n",
    "string_3[2:8:2]"
   ]
  },
  {
   "cell_type": "code",
   "execution_count": 20,
   "id": "c5924080-d62e-4429-8172-5ac0a8d7b347",
   "metadata": {},
   "outputs": [
    {
     "data": {
      "text/plain": [
       "'gdhsgjnjhs'"
      ]
     },
     "execution_count": 20,
     "metadata": {},
     "output_type": "execute_result"
    }
   ],
   "source": [
    "string_3 = 'ggddhgsdggjsnhjdhdsh'\n",
    "string_3[: :] # the same as doing [:]\n",
    "string_3[: :2]"
   ]
  },
  {
   "cell_type": "code",
   "execution_count": 21,
   "id": "a046df32-f9b2-4efe-adae-6f3b6a975de9",
   "metadata": {},
   "outputs": [
    {
     "data": {
      "text/plain": [
       "18"
      ]
     },
     "execution_count": 21,
     "metadata": {},
     "output_type": "execute_result"
    }
   ],
   "source": [
    "len(string_2)"
   ]
  },
  {
   "cell_type": "code",
   "execution_count": 22,
   "id": "bceeee72-db93-49fe-ab4d-981cdef6c85c",
   "metadata": {},
   "outputs": [
    {
     "data": {
      "text/plain": [
       "20"
      ]
     },
     "execution_count": 22,
     "metadata": {},
     "output_type": "execute_result"
    }
   ],
   "source": [
    "len(string_3)"
   ]
  },
  {
   "cell_type": "markdown",
   "id": "26c384f9-8d3c-49a2-9ff5-e4c3d23779c0",
   "metadata": {},
   "source": [
    "#### Concatenation"
   ]
  },
  {
   "cell_type": "code",
   "execution_count": 25,
   "id": "61c62be5-23de-402e-b5af-21cfa8b7ee88",
   "metadata": {},
   "outputs": [
    {
     "name": "stdout",
     "output_type": "stream",
     "text": [
      "WorldHello,\n",
      "Hello,World\n"
     ]
    }
   ],
   "source": [
    "my_var1 = \"Hello,\"\n",
    "my_var2 = 'World'\n",
    "contact = my_var1 + my_var2\n",
    "contact1 = my_var2 + my_var1\n",
    "print(contact1)\n",
    "print(contact)"
   ]
  },
  {
   "cell_type": "code",
   "execution_count": 26,
   "id": "531d32a2-8635-4619-9a02-a7e59611a301",
   "metadata": {},
   "outputs": [
    {
     "name": "stdout",
     "output_type": "stream",
     "text": [
      "WorldWorld\n"
     ]
    }
   ],
   "source": [
    "print(2*my_var2)"
   ]
  },
  {
   "cell_type": "code",
   "execution_count": 28,
   "id": "449c6b7b-10ac-4ade-a265-ef1fdfd1badd",
   "metadata": {},
   "outputs": [
    {
     "name": "stdout",
     "output_type": "stream",
     "text": [
      "WorldWorldWorldWorldWorld\n"
     ]
    }
   ],
   "source": [
    "print(5*my_var2)"
   ]
  },
  {
   "cell_type": "code",
   "execution_count": 30,
   "id": "3249940b-5ce2-48a4-86e0-7a97d6911123",
   "metadata": {},
   "outputs": [
    {
     "data": {
      "text/plain": [
       "True"
      ]
     },
     "execution_count": 30,
     "metadata": {},
     "output_type": "execute_result"
    }
   ],
   "source": [
    "2 == 2.0"
   ]
  },
  {
   "cell_type": "code",
   "execution_count": 34,
   "id": "2807cbae-e0c8-4b11-8109-0f506414997c",
   "metadata": {},
   "outputs": [
    {
     "data": {
      "text/plain": [
       "'This course is very intresting'"
      ]
     },
     "execution_count": 34,
     "metadata": {},
     "output_type": "execute_result"
    }
   ],
   "source": [
    "Kimm = \"this course is very intresting\"\n",
    "Kimm.capitalize()"
   ]
  },
  {
   "cell_type": "code",
   "execution_count": 36,
   "id": "836ed5e8-aeef-4cb4-98d7-0533fba5d48a",
   "metadata": {},
   "outputs": [
    {
     "name": "stdout",
     "output_type": "stream",
     "text": [
      "Help on built-in function capitalize:\n",
      "\n",
      "capitalize() method of builtins.str instance\n",
      "    Return a capitalized version of the string.\n",
      "\n",
      "    More specifically, make the first character have upper case and the rest lower\n",
      "    case.\n",
      "\n"
     ]
    }
   ],
   "source": [
    "help(Kimm.capitalize)"
   ]
  },
  {
   "cell_type": "code",
   "execution_count": 37,
   "id": "7049b212-b66e-4df5-b0d7-34a8a4e5ff72",
   "metadata": {},
   "outputs": [
    {
     "data": {
      "text/plain": [
       "'this course is very intresting'"
      ]
     },
     "execution_count": 37,
     "metadata": {},
     "output_type": "execute_result"
    }
   ],
   "source": [
    "Kimm = \"this course is very intresting\"\n",
    "Kimm.casefold()"
   ]
  },
  {
   "cell_type": "code",
   "execution_count": 40,
   "id": "dc133861-58c1-40b2-b7b0-bf2ccf3d978d",
   "metadata": {},
   "outputs": [
    {
     "data": {
      "text/plain": [
       "\u001b[1;31mSignature:\u001b[0m \u001b[0mKimm\u001b[0m\u001b[1;33m.\u001b[0m\u001b[0mcasefold\u001b[0m\u001b[1;33m(\u001b[0m\u001b[1;33m)\u001b[0m\u001b[1;33m\u001b[0m\u001b[1;33m\u001b[0m\u001b[0m\n",
       "\u001b[1;31mDocstring:\u001b[0m Return a version of the string suitable for caseless comparisons.\n",
       "\u001b[1;31mType:\u001b[0m      builtin_function_or_method"
      ]
     },
     "metadata": {},
     "output_type": "display_data"
    }
   ],
   "source": [
    "?Kimm.casefold"
   ]
  },
  {
   "cell_type": "code",
   "execution_count": 65,
   "id": "10240191-04e5-4636-9bf8-66bc9f8316a7",
   "metadata": {},
   "outputs": [
    {
     "data": {
      "text/plain": [
       "'!!!!!!!!!!this course is very intresting!!!!!!!!!!'"
      ]
     },
     "execution_count": 65,
     "metadata": {},
     "output_type": "execute_result"
    }
   ],
   "source": [
    "Kimm = \"this course is very intresting\"\n",
    "Kimm.center(50, '!')"
   ]
  },
  {
   "cell_type": "code",
   "execution_count": 70,
   "id": "8b7b6f94-1b0d-4606-9bb7-58039e3bd382",
   "metadata": {},
   "outputs": [
    {
     "data": {
      "text/plain": [
       "'!aAa!!'"
      ]
     },
     "execution_count": 70,
     "metadata": {},
     "output_type": "execute_result"
    }
   ],
   "source": [
    "'aAa'.center(6, '!')"
   ]
  },
  {
   "cell_type": "code",
   "execution_count": 44,
   "id": "6efd451e-81e1-4447-b921-74abd0db2566",
   "metadata": {},
   "outputs": [
    {
     "data": {
      "text/plain": [
       "\u001b[1;31mSignature:\u001b[0m \u001b[0mKimm\u001b[0m\u001b[1;33m.\u001b[0m\u001b[0mcenter\u001b[0m\u001b[1;33m(\u001b[0m\u001b[0mwidth\u001b[0m\u001b[1;33m,\u001b[0m \u001b[0mfillchar\u001b[0m\u001b[1;33m=\u001b[0m\u001b[1;34m' '\u001b[0m\u001b[1;33m,\u001b[0m \u001b[1;33m/\u001b[0m\u001b[1;33m)\u001b[0m\u001b[1;33m\u001b[0m\u001b[1;33m\u001b[0m\u001b[0m\n",
       "\u001b[1;31mDocstring:\u001b[0m\n",
       "Return a centered string of length width.\n",
       "\n",
       "Padding is done using the specified fill character (default is a space).\n",
       "\u001b[1;31mType:\u001b[0m      builtin_function_or_method"
      ]
     },
     "metadata": {},
     "output_type": "display_data"
    }
   ],
   "source": [
    "?Kimm.center"
   ]
  },
  {
   "cell_type": "code",
   "execution_count": 62,
   "id": "efdd6989-5fe6-4c7c-8978-c4143693e0fd",
   "metadata": {},
   "outputs": [
    {
     "data": {
      "text/plain": [
       "3"
      ]
     },
     "execution_count": 62,
     "metadata": {},
     "output_type": "execute_result"
    }
   ],
   "source": [
    "Kimm = \"this course is very intresting\"\n",
    "Kimm.count('t')"
   ]
  },
  {
   "cell_type": "code",
   "execution_count": 50,
   "id": "fad1ae1c-039e-4946-b2bf-5437d29fc271",
   "metadata": {},
   "outputs": [
    {
     "data": {
      "text/plain": [
       "\u001b[1;31mDocstring:\u001b[0m\n",
       "Return the number of non-overlapping occurrences of substring sub in string S[start:end].\n",
       "\n",
       "Optional arguments start and end are interpreted as in slice notation.\n",
       "\u001b[1;31mType:\u001b[0m      builtin_function_or_method"
      ]
     },
     "metadata": {},
     "output_type": "display_data"
    }
   ],
   "source": [
    "?Kimm.count"
   ]
  },
  {
   "cell_type": "code",
   "execution_count": 75,
   "id": "56d85ade-22fc-4b29-b09e-b6fe1aadcd5a",
   "metadata": {},
   "outputs": [
    {
     "data": {
      "text/plain": [
       "b'this course is very intresting'"
      ]
     },
     "execution_count": 75,
     "metadata": {},
     "output_type": "execute_result"
    }
   ],
   "source": [
    "Kimm = \"this course is very intresting\"\n",
    "Kimm.encode()"
   ]
  },
  {
   "cell_type": "code",
   "execution_count": 72,
   "id": "723e228f-8863-4771-b0cb-d6e2c8e62cf9",
   "metadata": {},
   "outputs": [
    {
     "data": {
      "text/plain": [
       "\u001b[1;31mSignature:\u001b[0m \u001b[0mKimm\u001b[0m\u001b[1;33m.\u001b[0m\u001b[0mencode\u001b[0m\u001b[1;33m(\u001b[0m\u001b[0mencoding\u001b[0m\u001b[1;33m=\u001b[0m\u001b[1;34m'utf-8'\u001b[0m\u001b[1;33m,\u001b[0m \u001b[0merrors\u001b[0m\u001b[1;33m=\u001b[0m\u001b[1;34m'strict'\u001b[0m\u001b[1;33m)\u001b[0m\u001b[1;33m\u001b[0m\u001b[1;33m\u001b[0m\u001b[0m\n",
       "\u001b[1;31mDocstring:\u001b[0m\n",
       "Encode the string using the codec registered for encoding.\n",
       "\n",
       "encoding\n",
       "  The encoding in which to encode the string.\n",
       "errors\n",
       "  The error handling scheme to use for encoding errors.\n",
       "  The default is 'strict' meaning that encoding errors raise a\n",
       "  UnicodeEncodeError.  Other possible values are 'ignore', 'replace' and\n",
       "  'xmlcharrefreplace' as well as any other name registered with\n",
       "  codecs.register_error that can handle UnicodeEncodeErrors.\n",
       "\u001b[1;31mType:\u001b[0m      builtin_function_or_method"
      ]
     },
     "metadata": {},
     "output_type": "display_data"
    }
   ],
   "source": [
    "?Kimm.encode"
   ]
  },
  {
   "cell_type": "code",
   "execution_count": 1,
   "id": "18c784ef-3678-489a-845e-9548c0d03c45",
   "metadata": {},
   "outputs": [
    {
     "name": "stdout",
     "output_type": "stream",
     "text": [
      " Volume in drive C is Olive INGABIRE\n",
      " Volume Serial Number is 6E31-06FC\n",
      "\n",
      " Directory of C:\\Users\\highe\\Desktop\\PYTHON _course\\Lecturer note\n",
      "\n",
      "09/25/2025  12:20 PM    <DIR>          .\n",
      "09/23/2025  04:07 PM    <DIR>          ..\n",
      "09/25/2025  12:21 PM    <DIR>          .ipynb_checkpoints\n",
      "09/23/2025  10:33 AM             6,021 command_mode.png\n",
      "09/25/2025  12:20 PM            13,591 Day3pyth.ipynb\n",
      "09/23/2025  10:33 AM             6,030 edit_mode.png\n",
      "09/23/2025  10:31 AM           194,094 Emily.png\n",
      "09/23/2025  10:34 AM            17,311 menubar_toolbar.png\n",
      "09/23/2025  07:20 PM           796,415 oliveingabire-day00-report.ipynb\n",
      "09/24/2025  11:36 PM           102,123 oliveingabire-day01-report.ipynb\n",
      "09/23/2025  10:31 AM            61,937 PyPro-SCiDaS-day_01a_introduction_to_python.ipynb\n",
      "09/25/2025  12:20 PM                51 testfile.txt\n",
      "03/20/2025  03:31 PM           556,390 _DAV4749 copy.jpg\n",
      "              10 File(s)      1,753,963 bytes\n",
      "               3 Dir(s)  164,034,334,720 bytes free\n"
     ]
    }
   ],
   "source": [
    "!dir"
   ]
  },
  {
   "cell_type": "code",
   "execution_count": 2,
   "id": "5ca47f64-8e6f-4fcf-a220-a28eac6908d4",
   "metadata": {},
   "outputs": [],
   "source": [
    "# %load testfile.txt\n",
    "fghij\n",
    "aims class\n",
    "Rwanda 2025\n",
    "this is really cool"
   ]
  },
  {
   "cell_type": "code",
   "execution_count": 7,
   "id": "4d50ce4d-b26c-4da9-9e06-6a2881812d11",
   "metadata": {},
   "outputs": [],
   "source": [
    "f = open('testfile.txt', 'r')"
   ]
  },
  {
   "cell_type": "code",
   "execution_count": 8,
   "id": "1928645e-5141-4066-a10b-42caf3b29191",
   "metadata": {},
   "outputs": [
    {
     "data": {
      "text/plain": [
       "_io.TextIOWrapper"
      ]
     },
     "execution_count": 8,
     "metadata": {},
     "output_type": "execute_result"
    }
   ],
   "source": [
    "type(f)"
   ]
  },
  {
   "cell_type": "code",
   "execution_count": 9,
   "id": "426c9def-016c-401e-9da8-120c078e3039",
   "metadata": {},
   "outputs": [
    {
     "data": {
      "text/plain": [
       "['fghij\\n', 'aims class\\n', 'Rwanda 2025\\n', 'this is really cool']"
      ]
     },
     "execution_count": 9,
     "metadata": {},
     "output_type": "execute_result"
    }
   ],
   "source": [
    "f.readlines()"
   ]
  },
  {
   "cell_type": "code",
   "execution_count": 10,
   "id": "e85d7203-35d4-4427-b7e3-53a5ae410f3a",
   "metadata": {},
   "outputs": [
    {
     "data": {
      "text/plain": [
       "<_io.TextIOWrapper name='testfile.txt' mode='r' encoding='cp1252'>"
      ]
     },
     "execution_count": 10,
     "metadata": {},
     "output_type": "execute_result"
    }
   ],
   "source": [
    "f"
   ]
  },
  {
   "cell_type": "code",
   "execution_count": 11,
   "id": "e75740fe-31e2-4963-a479-cbb837aa4840",
   "metadata": {},
   "outputs": [
    {
     "data": {
      "text/plain": [
       "''"
      ]
     },
     "execution_count": 11,
     "metadata": {},
     "output_type": "execute_result"
    }
   ],
   "source": [
    "f.read()"
   ]
  },
  {
   "cell_type": "code",
   "execution_count": 12,
   "id": "0133b8a1-a705-4442-b0ca-de4e62e9c3e9",
   "metadata": {},
   "outputs": [],
   "source": [
    "f.close()"
   ]
  },
  {
   "cell_type": "code",
   "execution_count": 13,
   "id": "f9b846bd-5fdd-40cc-b24e-e167511baf62",
   "metadata": {},
   "outputs": [
    {
     "ename": "ValueError",
     "evalue": "I/O operation on closed file.",
     "output_type": "error",
     "traceback": [
      "\u001b[1;31m---------------------------------------------------------------------------\u001b[0m",
      "\u001b[1;31mValueError\u001b[0m                                Traceback (most recent call last)",
      "Cell \u001b[1;32mIn[13], line 1\u001b[0m\n\u001b[1;32m----> 1\u001b[0m f\u001b[38;5;241m.\u001b[39mread()\n",
      "\u001b[1;31mValueError\u001b[0m: I/O operation on closed file."
     ]
    }
   ],
   "source": [
    "f.read()"
   ]
  },
  {
   "cell_type": "code",
   "execution_count": 18,
   "id": "4524933f-0180-47fb-9d64-8dad36db3c54",
   "metadata": {},
   "outputs": [],
   "source": [
    "to_write_to_file = open('testfile.txt', 'w')\n",
    "to_write_to_file.write(\"This is Thusday\")\n",
    "to_write_to_file.close()"
   ]
  },
  {
   "cell_type": "code",
   "execution_count": 20,
   "id": "ea12daf8-398d-4e93-8371-9ddadd766b55",
   "metadata": {},
   "outputs": [],
   "source": [
    "# %load testfile.txt\n",
    "This is Thusday"
   ]
  },
  {
   "cell_type": "code",
   "execution_count": 23,
   "id": "6dc7ef02-db01-4ef0-8852-b480bf320af4",
   "metadata": {},
   "outputs": [],
   "source": [
    "to_write = open('outfile.txt', 'w')\n",
    "to_write.write(\"This is Thusday1\\n\")\n",
    "to_write.write(\"This is Thusday2\")\n",
    "to_write.close()"
   ]
  },
  {
   "cell_type": "code",
   "execution_count": 24,
   "id": "a82d5605-8a99-4836-86e9-6add415c3a56",
   "metadata": {},
   "outputs": [
    {
     "data": {
      "text/plain": [
       "['This is Thusday1\\n', 'This is Thusday2']"
      ]
     },
     "execution_count": 24,
     "metadata": {},
     "output_type": "execute_result"
    }
   ],
   "source": [
    "to_write = open('outfile.txt', 'r')\n",
    "to_write.readlines()"
   ]
  },
  {
   "cell_type": "code",
   "execution_count": null,
   "id": "32132787-9e9d-46af-9555-f260cb5174a5",
   "metadata": {},
   "outputs": [],
   "source": []
  }
 ],
 "metadata": {
  "kernelspec": {
   "display_name": "Python 3 (ipykernel)",
   "language": "python",
   "name": "python3"
  },
  "language_info": {
   "codemirror_mode": {
    "name": "ipython",
    "version": 3
   },
   "file_extension": ".py",
   "mimetype": "text/x-python",
   "name": "python",
   "nbconvert_exporter": "python",
   "pygments_lexer": "ipython3",
   "version": "3.13.5"
  }
 },
 "nbformat": 4,
 "nbformat_minor": 5
}
